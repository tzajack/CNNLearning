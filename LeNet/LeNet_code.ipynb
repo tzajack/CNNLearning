{
 "cells": [
  {
   "cell_type": "code",
   "execution_count": 1,
   "id": "3681d74b",
   "metadata": {},
   "outputs": [],
   "source": [
    "import torch\n",
    "from torch import nn\n",
    "from torch.utils import data\n",
    "from d2l import torch as d2l\n",
    "import pandas as pd\n",
    "import numpy as np\n",
    "import matplotlib.pyplot as plt\n",
    "import matplotlib.image as mpimg\n",
    "from torchvision import transforms\n",
    "import torchvision.datasets as datasets \n",
    "from PIL import Image"
   ]
  },
  {
   "cell_type": "markdown",
   "id": "1786f42c",
   "metadata": {},
   "source": [
    "Define a transform function to resize the mnist dataset first. Noted that LeNet input is $28\\times 28$.   \n",
    "\n",
    "Load test and train dataset by dataloader."
   ]
  },
  {
   "cell_type": "code",
   "execution_count": 2,
   "id": "f9684ba4",
   "metadata": {},
   "outputs": [],
   "source": [
    "transform = transforms.Compose([transforms.Resize([28,28]), transforms.ToTensor()])\n",
    "mnist_trainset = datasets.MNIST(root='./data', train=True, download=True, transform=transform)\n",
    "train_loader = torch.utils.data.DataLoader(mnist_trainset, batch_size=256, shuffle=True)\n",
    "\n",
    "mnist_testset = datasets.MNIST(root='./data', train=False, download=True, transform=transform)\n",
    "test_loader = torch.utils.data.DataLoader(mnist_testset, batch_size=256, shuffle=True)"
   ]
  },
  {
   "cell_type": "markdown",
   "id": "e258a1ba",
   "metadata": {},
   "source": [
    "Define the LeNet structure.\n",
    "\n",
    "LetNet uses sigmoid instead of ReLU as activation function and average pooling instead of Maximum pooling."
   ]
  },
  {
   "cell_type": "code",
   "execution_count": 3,
   "id": "734e8341",
   "metadata": {},
   "outputs": [],
   "source": [
    "net = nn.Sequential(\n",
    "    nn.Conv2d(1, 6, kernel_size=5, padding=2), nn.Sigmoid(),\n",
    "    \n",
    "    nn.AvgPool2d(kernel_size=2, stride=2),\n",
    "    \n",
    "    nn.Conv2d(6, 16, kernel_size=5), nn.Sigmoid(),\n",
    "    \n",
    "    nn.AvgPool2d(kernel_size=2, stride=2),\n",
    "    \n",
    "    nn.Flatten(),\n",
    "    nn.Linear(16 * 5 * 5, 120), nn.Sigmoid(),\n",
    "    nn.Linear(120, 84), nn.Sigmoid(),\n",
    "    nn.Linear(84, 10))"
   ]
  },
  {
   "cell_type": "markdown",
   "id": "8626b6b1",
   "metadata": {},
   "source": [
    "Define a AccCount() to record the accuracy of each epoch "
   ]
  },
  {
   "cell_type": "code",
   "execution_count": 4,
   "id": "6703b68a",
   "metadata": {},
   "outputs": [],
   "source": [
    "def AccCount(net, test_loader): \n",
    "    device = d2l.try_gpu()\n",
    "    net.eval()\n",
    "    correct = 0\n",
    "    total = 0\n",
    "    with torch.no_grad():\n",
    "        for data in test_loader:\n",
    "            X,y = data\n",
    "            if isinstance(X, list):\n",
    "                X = [x.to(device) for x in X]\n",
    "            else:\n",
    "                X = X.to(device)\n",
    "            y = y.to(device)\n",
    "            preds = net(X).argmax(axis=1)\n",
    "            for i in range(len(y)):\n",
    "                if y[i].item() == preds[i].item():\n",
    "                    correct += 1\n",
    "            total += len(y)\n",
    "            \n",
    "    return correct/total\n"
   ]
  },
  {
   "cell_type": "markdown",
   "id": "ba574e75",
   "metadata": {},
   "source": [
    "Training function for LeNet"
   ]
  },
  {
   "cell_type": "code",
   "execution_count": 21,
   "id": "c41954cd",
   "metadata": {},
   "outputs": [],
   "source": [
    "def trainCNN(net, train_loader, test_loader, num_epochs, lr, device):\n",
    "    #xavier initialization \n",
    "    def init_weights(m):\n",
    "        if type(m) == nn.Linear or type(m) == nn.Conv2d:\n",
    "            nn.init.xavier_uniform_(m.weight)\n",
    "    net.apply(init_weights)\n",
    "    \n",
    "    #prompt message for device\n",
    "    print('training on', device)\n",
    "    net.to(device)\n",
    "    \n",
    "    #define optimizer and loss function\n",
    "    optimizer = torch.optim.SGD(net.parameters(), lr=lr)\n",
    "    loss = nn.CrossEntropyLoss()\n",
    "    train_l = []\n",
    "    train_acc = []\n",
    "    #training \n",
    "    for epoch in range(1,num_epochs+1):\n",
    "        net.train()\n",
    "        for data in (train_loader):\n",
    "            X,y = data\n",
    "            y = y.type(torch.LongTensor)\n",
    "            optimizer.zero_grad()\n",
    "            X, y = X.to(device), y.to(device)\n",
    "            y_hat = net(X)\n",
    "            y_hat = y_hat.to(device)\n",
    "            l = loss(y_hat, y)\n",
    "            l.backward()\n",
    "            optimizer.step()\n",
    "        acc = AccCount(net, test_loader)\n",
    "        ls = l.cpu()\n",
    "        train_l.append(float(ls))\n",
    "        train_acc.append(acc)\n",
    "        print(f'Epoch {epoch}, Loss {float(l):f}, Accuracy {acc*100:f}%')\n",
    "    \n",
    "    \n",
    "  \n",
    "    plt.plot(list(range(1,num_epochs+1)), train_l,label = 'loss')\n",
    "    plt.plot(list(range(1,num_epochs+1)), train_acc,label = 'Accuracy')\n",
    "    plt.title('Train Loss and Accuracy')\n",
    "    plt.xlabel('Epochs')\n",
    "    plt.ylabel('Loss and Accuracy')\n",
    "    plt.legend()\n",
    "    plt.show()"
   ]
  },
  {
   "cell_type": "markdown",
   "id": "74abdb5d",
   "metadata": {},
   "source": [
    "Define hyperparameters and train"
   ]
  },
  {
   "cell_type": "code",
   "execution_count": 22,
   "id": "0e4d77b9",
   "metadata": {
    "scrolled": true
   },
   "outputs": [
    {
     "name": "stdout",
     "output_type": "stream",
     "text": [
      "training on cuda:0\n",
      "Epoch 1, Loss 2.293220, Accuracy 10.100000%\n",
      "Epoch 2, Loss 2.311638, Accuracy 9.740000%\n",
      "Epoch 3, Loss 2.294997, Accuracy 11.350000%\n",
      "Epoch 4, Loss 2.056498, Accuracy 20.600000%\n",
      "Epoch 5, Loss 0.826439, Accuracy 76.760000%\n",
      "Epoch 6, Loss 0.413576, Accuracy 88.050000%\n",
      "Epoch 7, Loss 0.246632, Accuracy 90.070000%\n",
      "Epoch 8, Loss 0.385084, Accuracy 92.250000%\n",
      "Epoch 9, Loss 0.186636, Accuracy 93.980000%\n",
      "Epoch 10, Loss 0.107566, Accuracy 95.210000%\n"
     ]
    },
    {
     "data": {
      "image/png": "[encoded data removed]",
      "text/plain": [
       "<Figure size 432x288 with 1 Axes>"
      ]
     },
     "metadata": {
      "needs_background": "light"
     },
     "output_type": "display_data"
    }
   ],
   "source": [
    "lr, num_epochs = 0.7, 10\n",
    "\n",
    "trainCNN(net, train_loader,test_loader, num_epochs, lr, d2l.try_gpu())"
   ]
  },
  {
   "cell_type": "markdown",
   "id": "30c2da27",
   "metadata": {},
   "source": [
    "showdemo() to show a few examples"
   ]
  },
  {
   "cell_type": "code",
   "execution_count": 11,
   "id": "bba2010c",
   "metadata": {},
   "outputs": [
    {
     "name": "stdout",
     "output_type": "stream",
     "text": [
      "6\n"
     ]
    },
    {
     "data": {
      "image/png": "[encoded data removed]",
      "text/plain": [
       "<Figure size 432x288 with 1 Axes>"
      ]
     },
     "metadata": {
      "needs_background": "light"
     },
     "output_type": "display_data"
    },
    {
     "name": "stdout",
     "output_type": "stream",
     "text": [
      "3\n"
     ]
    },
    {
     "data": {
      "image/png": "[encoded data removed]",
      "text/plain": [
       "<Figure size 432x288 with 1 Axes>"
      ]
     },
     "metadata": {
      "needs_background": "light"
     },
     "output_type": "display_data"
    },
    {
     "name": "stdout",
     "output_type": "stream",
     "text": [
      "8\n"
     ]
    },
    {
     "data": {
      "image/png": "[encoded data removed]",
      "text/plain": [
       "<Figure size 432x288 with 1 Axes>"
      ]
     },
     "metadata": {
      "needs_background": "light"
     },
     "output_type": "display_data"
    },
    {
     "name": "stdout",
     "output_type": "stream",
     "text": [
      "5\n"
     ]
    },
    {
     "data": {
      "image/png": "[encoded data removed]",
      "text/plain": [
       "<Figure size 432x288 with 1 Axes>"
      ]
     },
     "metadata": {
      "needs_background": "light"
     },
     "output_type": "display_data"
    },
    {
     "name": "stdout",
     "output_type": "stream",
     "text": [
      "5\n"
     ]
    },
    {
     "data": {
      "image/png": "[encoded data removed]",
      "text/plain": [
       "<Figure size 432x288 with 1 Axes>"
      ]
     },
     "metadata": {
      "needs_background": "light"
     },
     "output_type": "display_data"
    }
   ],
   "source": [
    "\n",
    "def showdemo(net, test_loader, n): \n",
    "    device = d2l.try_gpu()\n",
    "    net.eval()\n",
    "    X,y = next(iter(test_loader))\n",
    "    if isinstance(X, list):\n",
    "        X = [x.to(device) for x in X]\n",
    "    else:\n",
    "        X = X.to(device)   \n",
    "    \n",
    "    preds = net(X).argmax(axis=1)\n",
    "    preds = preds.cpu()\n",
    "    predlist = list(preds)\n",
    "    titles = [pred.item() for pred in  predlist]\n",
    "    X = X.cpu()\n",
    "    for i in range(n):\n",
    "        print(titles[i])\n",
    "        plt.imshow(X[i].view(28, 28))\n",
    "        plt.show()\n",
    "    \n",
    "\n",
    "showdemo(net,test_loader,5)"
   ]
  },
  {
   "cell_type": "markdown",
   "id": "54d21eb1",
   "metadata": {},
   "source": [
    "Read a number of local real pictures to test the model\n",
    "\n",
    "Path name in 'numberX.jpg' where X is the index of picture"
   ]
  },
  {
   "cell_type": "code",
   "execution_count": 14,
   "id": "5b8259fc",
   "metadata": {},
   "outputs": [
    {
     "name": "stdout",
     "output_type": "stream",
     "text": [
      "1\n"
     ]
    },
    {
     "data": {
      "image/png": "[encoded data removed]",
      "text/plain": [
       "<Figure size 432x288 with 1 Axes>"
      ]
     },
     "metadata": {
      "needs_background": "light"
     },
     "output_type": "display_data"
    },
    {
     "name": "stdout",
     "output_type": "stream",
     "text": [
      "4\n"
     ]
    },
    {
     "data": {
      "image/png": "[encoded data removed]",
      "text/plain": [
       "<Figure size 432x288 with 1 Axes>"
      ]
     },
     "metadata": {
      "needs_background": "light"
     },
     "output_type": "display_data"
    },
    {
     "name": "stdout",
     "output_type": "stream",
     "text": [
      "7\n"
     ]
    },
    {
     "data": {
      "image/png": "[encoded data removed]",
      "text/plain": [
       "<Figure size 432x288 with 1 Axes>"
      ]
     },
     "metadata": {
      "needs_background": "light"
     },
     "output_type": "display_data"
    },
    {
     "name": "stdout",
     "output_type": "stream",
     "text": [
      "9\n"
     ]
    },
    {
     "data": {
      "image/png": "[encoded data removed]",
      "text/plain": [
       "<Figure size 432x288 with 1 Axes>"
      ]
     },
     "metadata": {
      "needs_background": "light"
     },
     "output_type": "display_data"
    },
    {
     "name": "stdout",
     "output_type": "stream",
     "text": [
      "5\n"
     ]
    },
    {
     "data": {
      "image/png": "[encoded data removed]",
      "text/plain": [
       "<Figure size 432x288 with 1 Axes>"
      ]
     },
     "metadata": {
      "needs_background": "light"
     },
     "output_type": "display_data"
    }
   ],
   "source": [
    "def readimg(net,path):\n",
    "    net.eval()\n",
    "    device = d2l.try_gpu()\n",
    "    img = Image.open(path)\n",
    "    #real image is 3 tunnel, convert it into black and white(2 tunnel)\n",
    "    transform = transforms.Grayscale()\n",
    "    img = transform(img)\n",
    "    transform = transforms.Resize([28,28])\n",
    "    img = transform(img)\n",
    "    \n",
    "    \n",
    "    \n",
    "    convert_tensor = transforms.ToTensor()\n",
    "    testimg = convert_tensor(img)\n",
    "    output = torch.rand(size=(1, 1, 28, 28), dtype=torch.float32)\n",
    "    \n",
    "    #image read by Image is in opposite value\n",
    "    output[0] = 1-(testimg)\n",
    "    \n",
    "    \n",
    "    if isinstance(testimg, list):\n",
    "        output = [x.to(device) for x in output]\n",
    "    else:\n",
    "        output = output.to(device)\n",
    "    \n",
    "    pred = net(output).argmax(axis=1).item()\n",
    "    \n",
    "    print(pred)\n",
    "    output=output.cpu()\n",
    "    plt.imshow(output[0].view(28, 28))\n",
    "    plt.show()\n",
    "    \n",
    "    \n",
    "num_pic = 5\n",
    "for i in range(num_pic):\n",
    "    path = 'number'+str(i+1)+'.jpg'\n",
    "    readimg(net,path)"
   ]
  },
  {
   "cell_type": "code",
   "execution_count": null,
   "id": "fb6159a8",
   "metadata": {},
   "outputs": [],
   "source": []
  }
 ],
 "metadata": {
  "kernelspec": {
   "display_name": "Python 3 (ipykernel)",
   "language": "python",
   "name": "python3"
  },
  "language_info": {
   "codemirror_mode": {
    "name": "ipython",
    "version": 3
   },
   "file_extension": ".py",
   "mimetype": "text/x-python",
   "name": "python",
   "nbconvert_exporter": "python",
   "pygments_lexer": "ipython3",
   "version": "3.9.13"
  }
 },
 "nbformat": 4,
 "nbformat_minor": 5
}
